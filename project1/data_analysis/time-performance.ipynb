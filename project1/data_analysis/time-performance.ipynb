{
 "cells": [
  {
   "cell_type": "markdown",
   "metadata": {},
   "source": [
    "# Analyse Time Performance"
   ]
  },
  {
   "cell_type": "code",
   "execution_count": null,
   "metadata": {},
   "outputs": [],
   "source": [
    "%matplotlib inline\n",
    "import pandas as pd\n",
    "import numpy as np\n",
    "import cProfile\n",
    "from pstatsviewer import StatsViewer\n",
    "import os\n",
    "import holoviews as hv\n",
    "hv.extension('bokeh')"
   ]
  },
  {
   "cell_type": "code",
   "execution_count": null,
   "metadata": {},
   "outputs": [],
   "source": [
    "# Change to directory project 1\n",
    "os.chdir(\"/Users/AndreCNF/Documents/AtariGoAI/project1\")"
   ]
  },
  {
   "cell_type": "code",
   "execution_count": null,
   "metadata": {},
   "outputs": [],
   "source": [
    "import go\n",
    "from alphabeta_cutoff_search import alphabeta_cutoff_search"
   ]
  },
  {
   "cell_type": "markdown",
   "metadata": {},
   "source": [
    "### Functions with the main scripts that we want to test\n",
    "\n",
    "It wont be able to fetch the code from the .py's in the directory for some reason."
   ]
  },
  {
   "cell_type": "code",
   "execution_count": null,
   "metadata": {},
   "outputs": [],
   "source": [
    "def mainAiAi():\n",
    "    s = []\n",
    "    endGame = 0\n",
    "\n",
    "    myGame = go.Game()\n",
    "    s = myGame.load_board(open('boards/test3_1.txt', 'r'))\n",
    "\n",
    "    while not endGame:\n",
    "        # Print board\n",
    "        # myGame.print_board(s)\n",
    "\n",
    "        # AI 1's turn\n",
    "        AiMove = alphabeta_cutoff_search(s, myGame, d=5)\n",
    "        s = myGame.result(s, AiMove)\n",
    "        endGame = myGame.terminal_test(s)\n",
    "\n",
    "        # AI 2's turn\n",
    "        AiMove = alphabeta_cutoff_search(s, myGame, d=5)\n",
    "        s = myGame.result(s, AiMove)\n",
    "        endGame = myGame.terminal_test(s)\n",
    "\n",
    "    # Print the final board\n",
    "    # myGame.print_board(s)"
   ]
  },
  {
   "cell_type": "markdown",
   "metadata": {},
   "source": [
    "Run cProfile on the main script of AI vs AI:"
   ]
  },
  {
   "cell_type": "code",
   "execution_count": null,
   "metadata": {},
   "outputs": [],
   "source": [
    "cProfile.run(\n",
    "    'mainAiAi()',\n",
    "    'mainAiAi.stats',\n",
    ")"
   ]
  },
  {
   "cell_type": "code",
   "execution_count": null,
   "metadata": {},
   "outputs": [],
   "source": [
    "AiAiStats = StatsViewer(\"mainAiAi.stats\")"
   ]
  },
  {
   "cell_type": "markdown",
   "metadata": {},
   "source": [
    "Get a dataframe with the number of calls and running durations of each function:"
   ]
  },
  {
   "cell_type": "code",
   "execution_count": null,
   "metadata": {},
   "outputs": [],
   "source": [
    "df = AiAiStats.timings\n",
    "df.head()"
   ]
  },
  {
   "cell_type": "markdown",
   "metadata": {},
   "source": [
    "Order by cumulative time:"
   ]
  },
  {
   "cell_type": "code",
   "execution_count": null,
   "metadata": {},
   "outputs": [],
   "source": [
    "sortedData = df.sort_values(by='cumtime', ascending=False)\n",
    "sortedData.head()"
   ]
  },
  {
   "cell_type": "markdown",
   "metadata": {},
   "source": [
    "Filter data to only indicate functions that are relevant to us:"
   ]
  },
  {
   "cell_type": "code",
   "execution_count": null,
   "metadata": {},
   "outputs": [],
   "source": [
    "relevantFunctions = ['go.py', 'alphabeta_cutoff_search.py', 'copy.py']"
   ]
  },
  {
   "cell_type": "code",
   "execution_count": null,
   "metadata": {},
   "outputs": [],
   "source": [
    "['go.py' in idx for idx in sortedData.index]"
   ]
  },
  {
   "cell_type": "code",
   "execution_count": null,
   "metadata": {},
   "outputs": [],
   "source": [
    "[any(func in idx for func in relevantFunctions) for idx in sortedData.index]"
   ]
  },
  {
   "cell_type": "code",
   "execution_count": null,
   "metadata": {},
   "outputs": [],
   "source": [
    "# Temporary solution to filtering data without the Pandas apply() method\n",
    "filteredData = sortedData[[any(func in idx for func in relevantFunctions) for idx in sortedData.index]]"
   ]
  },
  {
   "cell_type": "code",
   "execution_count": null,
   "metadata": {},
   "outputs": [],
   "source": [
    "# sortedData.apply(lambda df: any(func in df.index for func in usefulSources), axis=1)"
   ]
  },
  {
   "cell_type": "markdown",
   "metadata": {},
   "source": [
    "Plotting a bars graph:"
   ]
  },
  {
   "cell_type": "code",
   "execution_count": null,
   "metadata": {},
   "outputs": [],
   "source": [
    "%%opts Bars [xrotation=90 width=900 height=500 show_legend=False tools=['hover'] invert_axes=True ]\n",
    "%%opts Bars (fill_color=Cycle('Spectral'))\n",
    "%%opts Layout [shared_axes=False]\n",
    "\n",
    "hv.Bars(filteredData, 'filename:funcname', 'cumtime')"
   ]
  },
  {
   "cell_type": "markdown",
   "metadata": {},
   "source": [
    "More options for the bar plot:"
   ]
  },
  {
   "cell_type": "code",
   "execution_count": null,
   "metadata": {},
   "outputs": [],
   "source": [
    "hv.help(hv.Bars)"
   ]
  },
  {
   "cell_type": "code",
   "execution_count": null,
   "metadata": {},
   "outputs": [],
   "source": []
  }
 ],
 "metadata": {
  "kernelspec": {
   "display_name": "Python 3",
   "language": "python",
   "name": "python3"
  },
  "language_info": {
   "codemirror_mode": {
    "name": "ipython",
    "version": 3
   },
   "file_extension": ".py",
   "mimetype": "text/x-python",
   "name": "python",
   "nbconvert_exporter": "python",
   "pygments_lexer": "ipython3",
   "version": "3.5.5"
  }
 },
 "nbformat": 4,
 "nbformat_minor": 2
}
