{
 "cells": [
  {
   "cell_type": "markdown",
   "metadata": {},
   "source": [
    "# Analyse Time Performance"
   ]
  },
  {
   "cell_type": "code",
   "execution_count": null,
   "metadata": {},
   "outputs": [],
   "source": [
    "%matplotlib inline\n",
    "import pandas as pd\n",
    "import numpy as np\n",
    "import cProfile\n",
    "from pstatsviewer import StatsViewer\n",
    "import os\n",
    "import holoviews as hv\n",
    "hv.extension('bokeh')"
   ]
  },
  {
   "cell_type": "code",
   "execution_count": null,
   "metadata": {},
   "outputs": [],
   "source": [
    "# Change to directory project 1\n",
    "os.chdir(\"/Users/AndreCNF/Documents/AtariGoAI/project1\")"
   ]
  },
  {
   "cell_type": "code",
   "execution_count": null,
   "metadata": {},
   "outputs": [],
   "source": [
    "import go\n",
    "from alphabeta_cutoff_search import alphabeta_cutoff_search"
   ]
  },
  {
   "cell_type": "markdown",
   "metadata": {},
   "source": [
    "Name of the board to use:"
   ]
  },
  {
   "cell_type": "code",
   "execution_count": null,
   "metadata": {},
   "outputs": [],
   "source": [
    "boardName = 'emptyBoard'"
   ]
  },
  {
   "cell_type": "markdown",
   "metadata": {},
   "source": [
    "Script to test:"
   ]
  },
  {
   "cell_type": "code",
   "execution_count": null,
   "metadata": {},
   "outputs": [],
   "source": [
    "mainScript = 'mainAiAi'"
   ]
  },
  {
   "cell_type": "code",
   "execution_count": null,
   "metadata": {},
   "outputs": [],
   "source": [
    "statsFileName = mainScript + '_' + boardName + '_dictionaryGroups065035.stats'"
   ]
  },
  {
   "cell_type": "markdown",
   "metadata": {},
   "source": [
    "### Functions with the main scripts that we want to test\n",
    "\n",
    "It wont be able to fetch the code from the .py's in the directory for some reason."
   ]
  },
  {
   "cell_type": "code",
   "execution_count": null,
   "metadata": {},
   "outputs": [],
   "source": [
    "def mainAiAi():\n",
    "    s = []\n",
    "    endGame = 0\n",
    "\n",
    "    myGame = go.Game()\n",
    "    s = myGame.load_board(open('boards/' + boardName + '.txt', 'r'))\n",
    "\n",
    "    while not endGame:\n",
    "        # Print board\n",
    "        # myGame.print_board(s)\n",
    "\n",
    "        # AI 1's turn\n",
    "        AiMove = alphabeta_cutoff_search(s, myGame, d=3)\n",
    "        s = myGame.result(s, AiMove)\n",
    "        endGame = myGame.terminal_test(s)\n",
    "\n",
    "        # AI 2's turn\n",
    "        AiMove = alphabeta_cutoff_search(s, myGame, d=3)\n",
    "        s = myGame.result(s, AiMove)\n",
    "        endGame = myGame.terminal_test(s)\n",
    "\n",
    "    # Print the final board\n",
    "    myGame.print_board(s, print_ids=True)"
   ]
  },
  {
   "cell_type": "markdown",
   "metadata": {},
   "source": [
    "### cProfile Dataframe\n",
    "\n",
    "Run cProfile on the main script of AI vs AI:"
   ]
  },
  {
   "cell_type": "code",
   "execution_count": null,
   "metadata": {},
   "outputs": [],
   "source": [
    "cProfile.run(\n",
    "    mainScript + '()',\n",
    "    statsFileName,\n",
    ")"
   ]
  },
  {
   "cell_type": "code",
   "execution_count": null,
   "metadata": {},
   "outputs": [],
   "source": [
    "AiAiStats = StatsViewer(statsFileName)"
   ]
  },
  {
   "cell_type": "markdown",
   "metadata": {},
   "source": [
    "Get a dataframe with the number of calls and running durations of each function:"
   ]
  },
  {
   "cell_type": "code",
   "execution_count": null,
   "metadata": {},
   "outputs": [],
   "source": [
    "df = AiAiStats.timings\n",
    "df.head()"
   ]
  },
  {
   "cell_type": "markdown",
   "metadata": {},
   "source": [
    "### Sort data\n",
    "\n",
    "Order by cumulative time:"
   ]
  },
  {
   "cell_type": "code",
   "execution_count": null,
   "metadata": {},
   "outputs": [],
   "source": [
    "sortedData = df.sort_values(by='cumtime', ascending=False)\n",
    "sortedData.head()"
   ]
  },
  {
   "cell_type": "markdown",
   "metadata": {},
   "source": [
    "### Filter data\n",
    "\n",
    "Filter data to only indicate functions that are relevant to us:"
   ]
  },
  {
   "cell_type": "code",
   "execution_count": null,
   "metadata": {},
   "outputs": [],
   "source": [
    "relevantFunctions = ['go.py', 'alphabeta_cutoff_search.py', 'copy.py']"
   ]
  },
  {
   "cell_type": "code",
   "execution_count": null,
   "metadata": {},
   "outputs": [],
   "source": [
    "['go.py' in idx for idx in sortedData.index]"
   ]
  },
  {
   "cell_type": "code",
   "execution_count": null,
   "metadata": {},
   "outputs": [],
   "source": [
    "[any(func in idx for func in relevantFunctions) for idx in sortedData.index]"
   ]
  },
  {
   "cell_type": "code",
   "execution_count": null,
   "metadata": {},
   "outputs": [],
   "source": [
    "# Temporary solution to filtering data without the Pandas apply() method\n",
    "filteredData = sortedData[[any(func in idx for func in relevantFunctions) for idx in sortedData.index]]"
   ]
  },
  {
   "cell_type": "markdown",
   "metadata": {},
   "source": [
    "### Organize data"
   ]
  },
  {
   "cell_type": "code",
   "execution_count": null,
   "metadata": {},
   "outputs": [],
   "source": [
    "organizedData = filteredData.reset_index()"
   ]
  },
  {
   "cell_type": "code",
   "execution_count": null,
   "metadata": {},
   "outputs": [],
   "source": [
    "organizedData[['filename', 'funcname']] = organizedData['filename:funcname'].str.split(\":\", expand=True)"
   ]
  },
  {
   "cell_type": "code",
   "execution_count": null,
   "metadata": {},
   "outputs": [],
   "source": [
    "organizedData = organizedData.drop(columns='filename:funcname')"
   ]
  },
  {
   "cell_type": "code",
   "execution_count": null,
   "metadata": {
    "scrolled": true
   },
   "outputs": [],
   "source": [
    "organizedData.head()"
   ]
  },
  {
   "cell_type": "code",
   "execution_count": null,
   "metadata": {},
   "outputs": [],
   "source": [
    "fileCumTimes = organizedData.groupby('filename').cumtime.sum()\n",
    "fileCumTimes"
   ]
  },
  {
   "cell_type": "markdown",
   "metadata": {},
   "source": [
    "### Plots"
   ]
  },
  {
   "cell_type": "code",
   "execution_count": null,
   "metadata": {},
   "outputs": [],
   "source": [
    "%%opts Bars [xrotation=90 width=900 height=500 show_legend=False tools=['hover'] invert_axes=True ]\n",
    "%%opts Bars (fill_color=Cycle('Spectral'))\n",
    "%%opts Layout [shared_axes=False]\n",
    "\n",
    "hv.Bars(filteredData, 'filename:funcname', 'cumtime')"
   ]
  },
  {
   "cell_type": "code",
   "execution_count": null,
   "metadata": {},
   "outputs": [],
   "source": [
    "%%opts Bars [xrotation=90 width=900 height=500 show_legend=False tools=['hover'] invert_axes=True ]\n",
    "%%opts Bars (fill_color=Cycle('Spectral'))\n",
    "%%opts Layout [shared_axes=False]\n",
    "\n",
    "hv.Bars(fileCumTimes, 'filename')"
   ]
  },
  {
   "cell_type": "markdown",
   "metadata": {},
   "source": [
    "**Comment:** The copy methods take more time than all the rest of our code (from go.py) combined!"
   ]
  },
  {
   "cell_type": "markdown",
   "metadata": {},
   "source": [
    "More options for the bar plot:"
   ]
  },
  {
   "cell_type": "code",
   "execution_count": null,
   "metadata": {},
   "outputs": [],
   "source": [
    "hv.help(hv.Bars)"
   ]
  },
  {
   "cell_type": "code",
   "execution_count": null,
   "metadata": {},
   "outputs": [],
   "source": []
  }
 ],
 "metadata": {
  "kernelspec": {
   "display_name": "Python 3",
   "language": "python",
   "name": "python3"
  },
  "language_info": {
   "codemirror_mode": {
    "name": "ipython",
    "version": 3
   },
   "file_extension": ".py",
   "mimetype": "text/x-python",
   "name": "python",
   "nbconvert_exporter": "python",
   "pygments_lexer": "ipython3",
   "version": "3.5.5"
  }
 },
 "nbformat": 4,
 "nbformat_minor": 2
}
